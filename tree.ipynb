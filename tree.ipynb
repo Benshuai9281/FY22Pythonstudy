{
 "cells": [
  {
   "cell_type": "code",
   "execution_count": 38,
   "id": "4a0e8b0a",
   "metadata": {},
   "outputs": [],
   "source": [
    "import matplotlib.pyplot as plt\n",
    "plt.rcParams['font.family'] = \"MS Gothic\"    # フォントは日本語対応の"
   ]
  },
  {
   "cell_type": "code",
   "execution_count": 39,
   "id": "c6a7ec50",
   "metadata": {},
   "outputs": [
    {
     "data": {
      "text/html": [
       "<div>\n",
       "<style scoped>\n",
       "    .dataframe tbody tr th:only-of-type {\n",
       "        vertical-align: middle;\n",
       "    }\n",
       "\n",
       "    .dataframe tbody tr th {\n",
       "        vertical-align: top;\n",
       "    }\n",
       "\n",
       "    .dataframe thead th {\n",
       "        text-align: right;\n",
       "    }\n",
       "</style>\n",
       "<table border=\"1\" class=\"dataframe\">\n",
       "  <thead>\n",
       "    <tr style=\"text-align: right;\">\n",
       "      <th></th>\n",
       "      <th>Index</th>\n",
       "      <th>ヘッド番号</th>\n",
       "      <th>チップID</th>\n",
       "      <th>ウエハID</th>\n",
       "      <th>検査ID</th>\n",
       "      <th>検査日時</th>\n",
       "      <th>検査装置No</th>\n",
       "      <th>合否判定</th>\n",
       "      <th>LA_6_チップ容量最小値</th>\n",
       "      <th>LA_6_チップ容量最大値</th>\n",
       "      <th>...</th>\n",
       "      <th>3_ウエハ容量平均値</th>\n",
       "      <th>3_ウエハ容量1~10ch平均値</th>\n",
       "      <th>3_ウエハ容量247~256ch平均値</th>\n",
       "      <th>3_ウエハ容量中央値</th>\n",
       "      <th>3_ウエハ容量チャンネル001</th>\n",
       "      <th>3_ウエハ容量チャンネル128</th>\n",
       "      <th>3_ウエハ容量チャンネル256</th>\n",
       "      <th>3_ウエハ容量標準偏差</th>\n",
       "      <th>3_ウエハ容量分散</th>\n",
       "      <th>合否フラグ</th>\n",
       "    </tr>\n",
       "  </thead>\n",
       "  <tbody>\n",
       "    <tr>\n",
       "      <th>0</th>\n",
       "      <td>0</td>\n",
       "      <td>XA1002113</td>\n",
       "      <td>X1002113</td>\n",
       "      <td>X10021</td>\n",
       "      <td>1812285</td>\n",
       "      <td>43502.395046</td>\n",
       "      <td>20</td>\n",
       "      <td>合格</td>\n",
       "      <td>880.950012</td>\n",
       "      <td>896.142029</td>\n",
       "      <td>...</td>\n",
       "      <td>10810.480664</td>\n",
       "      <td>10903.28</td>\n",
       "      <td>10687.655</td>\n",
       "      <td>10797.35</td>\n",
       "      <td>10929.8</td>\n",
       "      <td>10792.75</td>\n",
       "      <td>10715.0</td>\n",
       "      <td>75.390536</td>\n",
       "      <td>5683.732878</td>\n",
       "      <td>1</td>\n",
       "    </tr>\n",
       "    <tr>\n",
       "      <th>1</th>\n",
       "      <td>1</td>\n",
       "      <td>XA1002104</td>\n",
       "      <td>X1002104</td>\n",
       "      <td>X10021</td>\n",
       "      <td>1812344</td>\n",
       "      <td>43502.408831</td>\n",
       "      <td>20</td>\n",
       "      <td>合格</td>\n",
       "      <td>873.458984</td>\n",
       "      <td>895.859009</td>\n",
       "      <td>...</td>\n",
       "      <td>10810.480664</td>\n",
       "      <td>10903.28</td>\n",
       "      <td>10687.655</td>\n",
       "      <td>10797.35</td>\n",
       "      <td>10929.8</td>\n",
       "      <td>10792.75</td>\n",
       "      <td>10715.0</td>\n",
       "      <td>75.390536</td>\n",
       "      <td>5683.732878</td>\n",
       "      <td>1</td>\n",
       "    </tr>\n",
       "    <tr>\n",
       "      <th>2</th>\n",
       "      <td>2</td>\n",
       "      <td>XA1002111</td>\n",
       "      <td>X1002111</td>\n",
       "      <td>X10021</td>\n",
       "      <td>1812389</td>\n",
       "      <td>43502.422650</td>\n",
       "      <td>20</td>\n",
       "      <td>合格</td>\n",
       "      <td>870.364990</td>\n",
       "      <td>880.263000</td>\n",
       "      <td>...</td>\n",
       "      <td>10810.480664</td>\n",
       "      <td>10903.28</td>\n",
       "      <td>10687.655</td>\n",
       "      <td>10797.35</td>\n",
       "      <td>10929.8</td>\n",
       "      <td>10792.75</td>\n",
       "      <td>10715.0</td>\n",
       "      <td>75.390536</td>\n",
       "      <td>5683.732878</td>\n",
       "      <td>1</td>\n",
       "    </tr>\n",
       "    <tr>\n",
       "      <th>3</th>\n",
       "      <td>3</td>\n",
       "      <td>XA1002114</td>\n",
       "      <td>X1002114</td>\n",
       "      <td>X10021</td>\n",
       "      <td>1812494</td>\n",
       "      <td>43502.452106</td>\n",
       "      <td>20</td>\n",
       "      <td>合格</td>\n",
       "      <td>882.367004</td>\n",
       "      <td>896.418030</td>\n",
       "      <td>...</td>\n",
       "      <td>10810.480664</td>\n",
       "      <td>10903.28</td>\n",
       "      <td>10687.655</td>\n",
       "      <td>10797.35</td>\n",
       "      <td>10929.8</td>\n",
       "      <td>10792.75</td>\n",
       "      <td>10715.0</td>\n",
       "      <td>75.390536</td>\n",
       "      <td>5683.732878</td>\n",
       "      <td>1</td>\n",
       "    </tr>\n",
       "    <tr>\n",
       "      <th>4</th>\n",
       "      <td>4</td>\n",
       "      <td>XA1002108</td>\n",
       "      <td>X1002108</td>\n",
       "      <td>X10021</td>\n",
       "      <td>1812684</td>\n",
       "      <td>43502.511748</td>\n",
       "      <td>20</td>\n",
       "      <td>合格</td>\n",
       "      <td>870.942993</td>\n",
       "      <td>885.932983</td>\n",
       "      <td>...</td>\n",
       "      <td>10810.480664</td>\n",
       "      <td>10903.28</td>\n",
       "      <td>10687.655</td>\n",
       "      <td>10797.35</td>\n",
       "      <td>10929.8</td>\n",
       "      <td>10792.75</td>\n",
       "      <td>10715.0</td>\n",
       "      <td>75.390536</td>\n",
       "      <td>5683.732878</td>\n",
       "      <td>1</td>\n",
       "    </tr>\n",
       "  </tbody>\n",
       "</table>\n",
       "<p>5 rows × 69 columns</p>\n",
       "</div>"
      ],
      "text/plain": [
       "   Index      ヘッド番号     チップID   ウエハID     検査ID          検査日時  検査装置No 合否判定  \\\n",
       "0      0  XA1002113  X1002113  X10021  1812285  43502.395046      20   合格   \n",
       "1      1  XA1002104  X1002104  X10021  1812344  43502.408831      20   合格   \n",
       "2      2  XA1002111  X1002111  X10021  1812389  43502.422650      20   合格   \n",
       "3      3  XA1002114  X1002114  X10021  1812494  43502.452106      20   合格   \n",
       "4      4  XA1002108  X1002108  X10021  1812684  43502.511748      20   合格   \n",
       "\n",
       "   LA_6_チップ容量最小値  LA_6_チップ容量最大値  ...    3_ウエハ容量平均値  3_ウエハ容量1~10ch平均値  \\\n",
       "0     880.950012     896.142029  ...  10810.480664          10903.28   \n",
       "1     873.458984     895.859009  ...  10810.480664          10903.28   \n",
       "2     870.364990     880.263000  ...  10810.480664          10903.28   \n",
       "3     882.367004     896.418030  ...  10810.480664          10903.28   \n",
       "4     870.942993     885.932983  ...  10810.480664          10903.28   \n",
       "\n",
       "   3_ウエハ容量247~256ch平均値  3_ウエハ容量中央値  3_ウエハ容量チャンネル001  3_ウエハ容量チャンネル128  \\\n",
       "0            10687.655    10797.35          10929.8         10792.75   \n",
       "1            10687.655    10797.35          10929.8         10792.75   \n",
       "2            10687.655    10797.35          10929.8         10792.75   \n",
       "3            10687.655    10797.35          10929.8         10792.75   \n",
       "4            10687.655    10797.35          10929.8         10792.75   \n",
       "\n",
       "   3_ウエハ容量チャンネル256  3_ウエハ容量標準偏差    3_ウエハ容量分散  合否フラグ  \n",
       "0          10715.0    75.390536  5683.732878      1  \n",
       "1          10715.0    75.390536  5683.732878      1  \n",
       "2          10715.0    75.390536  5683.732878      1  \n",
       "3          10715.0    75.390536  5683.732878      1  \n",
       "4          10715.0    75.390536  5683.732878      1  \n",
       "\n",
       "[5 rows x 69 columns]"
      ]
     },
     "execution_count": 39,
     "metadata": {},
     "output_type": "execute_result"
    }
   ],
   "source": [
    "import seaborn as sns\n",
    "import pandas as pd\n",
    "from sklearn.model_selection import train_test_split\n",
    "from sklearn import tree\n",
    "path = r\"C:\\Users\\e13993\\Desktop\\データ分析\\02_データ理解\\DATA\\Data_01追記.xlsx\"\n",
    "df = pd.read_excel(path)\n",
    "df.head()"
   ]
  },
  {
   "cell_type": "code",
   "execution_count": 49,
   "id": "cb321a71",
   "metadata": {},
   "outputs": [],
   "source": [
    "df_x = df[['RB_6_チップ容量最小値','RB_6_チップ容量最大値','RA_6_チップ容量最小値','RA_6_チップ容量最大値','LA_6_チップ容量最小値','LA_6_チップ容量最大値','LB_6_チップ容量最小値','LB_6_チップ容量最大値','3_ウエハ容量標準偏差']]\n",
    "df_y = df['合否フラグ']"
   ]
  },
  {
   "cell_type": "code",
   "execution_count": 50,
   "id": "b327c19d",
   "metadata": {},
   "outputs": [],
   "source": [
    "df_x = pd.get_dummies(df_x, drop_first=True)"
   ]
  },
  {
   "cell_type": "code",
   "execution_count": 51,
   "id": "34a59c28",
   "metadata": {},
   "outputs": [],
   "source": [
    "from sklearn.model_selection import train_test_split\n",
    "train_x, test_x, train_y, test_y = train_test_split(df_x,df_y,random_state=1)"
   ]
  },
  {
   "cell_type": "code",
   "execution_count": 52,
   "id": "67dfea57",
   "metadata": {},
   "outputs": [],
   "source": [
    "from sklearn import tree\n",
    "model = tree.DecisionTreeClassifier(max_depth=3, random_state=1)"
   ]
  },
  {
   "cell_type": "code",
   "execution_count": 53,
   "id": "bbcd2902",
   "metadata": {},
   "outputs": [
    {
     "data": {
      "text/plain": [
       "DecisionTreeClassifier(max_depth=3, random_state=1)"
      ]
     },
     "execution_count": 53,
     "metadata": {},
     "output_type": "execute_result"
    }
   ],
   "source": [
    "model.fit(train_x, train_y)"
   ]
  },
  {
   "cell_type": "code",
   "execution_count": 54,
   "id": "4312fab5",
   "metadata": {},
   "outputs": [
    {
     "data": {
      "text/plain": [
       "array([1, 1, 1, 1, 1, 1, 1, 1, 1, 1, 0, 1, 1, 1, 1, 1, 1, 1, 1, 1, 1, 1,\n",
       "       1, 0, 1, 1, 1, 1, 0, 1, 1, 1, 1, 1, 1, 1, 1, 1, 0, 1, 1, 1, 1, 1,\n",
       "       1, 0, 1, 1, 1, 1, 1, 1, 1, 1, 1, 1, 1, 1, 1, 1, 1, 1, 1, 1, 0, 1,\n",
       "       1, 1, 1, 1, 1, 1, 1, 1, 1, 0, 1, 1, 1, 1, 1, 1, 1, 1, 1, 1, 1, 1,\n",
       "       1, 1, 1, 1, 1, 1, 1, 1, 1, 1, 1, 1, 1, 1, 1, 1, 1, 1, 1, 1, 1, 1,\n",
       "       1, 1, 1, 1, 1, 1, 1, 1, 1, 1, 1, 1, 1, 1, 1, 1, 1, 1, 0, 1, 0, 1,\n",
       "       1, 1, 0, 1, 0, 1, 1, 1, 1, 1, 1, 1, 1, 1, 1, 1, 1, 1, 1, 1, 1, 1,\n",
       "       1, 1, 0, 1, 1, 1, 1, 1, 1, 1, 1, 1, 1, 1, 1, 1, 1, 1, 1, 1, 1, 0,\n",
       "       1, 1, 1, 1, 1, 0, 0, 1, 1, 1, 1, 1, 1, 1, 1, 1, 1, 1, 1, 1, 0, 1,\n",
       "       1, 1, 1, 1, 1, 1, 1, 1, 1, 1, 1, 0, 1, 0, 1, 1, 1, 1, 1, 1, 1, 1,\n",
       "       1, 1, 1, 1, 1, 1, 1, 1, 1, 1, 1, 1, 1, 0, 1, 1, 1, 1, 1, 1, 1, 1,\n",
       "       0, 1, 1, 1, 1, 1, 1, 1, 0, 1, 1, 1, 1, 1, 1, 1, 1, 1, 1, 1, 1, 1,\n",
       "       1, 1, 1, 1, 1, 1, 1, 1, 1, 1, 0, 1, 1, 1, 1, 1, 1, 0, 1, 1, 1, 1,\n",
       "       0, 0, 1, 1, 1, 1, 1, 0, 1, 1, 1, 0, 1, 1, 1, 0, 0, 1, 1, 1, 1, 0,\n",
       "       1, 1, 1, 1, 1, 1, 0, 1, 1, 0, 1, 1, 1, 1, 1, 0, 1, 1, 1, 1, 1, 1,\n",
       "       1, 1, 1, 1, 1, 0, 1, 1, 1, 1, 1, 1, 0, 0, 1, 1, 1, 1, 1, 1, 1, 1,\n",
       "       1, 1, 1, 1, 1, 1, 1, 0, 1, 1, 1, 1, 1, 1, 1, 1, 1, 0, 1, 1, 0, 1,\n",
       "       1, 1, 1, 0, 1, 1, 1, 1, 1, 1, 1, 1, 1, 1, 1, 1, 1, 1, 1, 0, 1, 1,\n",
       "       1, 1, 1, 1, 1, 1, 1, 1, 1, 1, 0, 1, 1, 0, 1, 0, 1, 1, 1, 1, 1, 1,\n",
       "       1, 1, 1, 1, 1, 1, 1, 1, 0, 1, 1, 1, 1, 1, 1, 1, 1, 1, 1, 1, 1, 1,\n",
       "       1, 1, 1, 1, 1, 1, 1, 1, 1, 1, 1, 1, 1, 1, 1, 1, 1, 1, 0, 1, 1, 0,\n",
       "       1, 1, 1, 1, 1, 1, 1, 1, 1, 1, 1, 1, 1, 0, 1, 0, 0, 1, 1, 1, 1, 1,\n",
       "       1, 1, 1, 1, 1, 1, 1, 1, 0, 1, 1, 1, 1, 1, 1, 1, 1, 1, 1, 1, 0, 0,\n",
       "       1, 1, 1, 1, 1, 1, 0, 1, 1, 1, 1, 1, 1, 1, 1, 1, 1, 1, 1, 1, 1, 1,\n",
       "       1, 1, 1, 1, 1, 1, 1, 1, 1, 1, 1, 0, 0, 1, 1, 1, 1, 1, 1, 1, 1, 1,\n",
       "       1, 1, 1, 1, 1, 1, 1, 0, 1, 1, 1, 0, 1, 1, 1, 1, 1, 0, 1, 1, 0, 1,\n",
       "       1, 1, 1, 1, 1, 1, 1, 1, 1, 1, 1, 1, 0, 1, 1, 1, 0, 1, 0, 1, 1, 1,\n",
       "       1, 1, 1, 1, 1, 1, 1, 1, 1, 1, 1, 1, 1, 1, 1, 1, 1, 1, 1, 1, 1, 1,\n",
       "       1, 1, 1, 1, 1, 1, 1, 1, 1, 1, 1, 1, 1, 1, 1, 0, 1, 1, 1, 1, 1, 1,\n",
       "       0, 1, 1, 1, 1, 1, 1, 1, 1, 1, 1, 1, 1, 1, 1, 1, 1, 1, 1, 1, 1, 1,\n",
       "       1, 1, 1, 1, 0, 1, 1, 1, 1, 1, 1, 1, 1, 1, 1, 1, 1, 1, 1, 1, 1, 1,\n",
       "       1, 1, 1, 1, 1, 1, 1, 1, 0, 1, 1, 1, 1, 1, 1, 1, 1, 1, 1, 1, 1, 1,\n",
       "       1, 1, 1, 0, 1, 1, 1, 0, 0, 1, 1, 1, 1, 1, 1, 1, 1, 1, 1, 0, 0, 1,\n",
       "       1, 1, 1, 1, 1, 1, 1, 1, 0, 1, 1, 1, 1, 1, 1, 1, 1, 1, 1, 1, 1, 1,\n",
       "       1, 1, 1, 1, 0, 1, 0, 1, 1, 1, 1, 1, 1, 0, 1, 1, 1, 1, 0, 1, 1, 1,\n",
       "       1, 1, 1, 1, 1, 1, 1, 0, 0, 1, 1, 0, 1, 1, 1, 1, 1, 1, 1, 1, 1, 1,\n",
       "       1, 1, 1, 1, 1, 1, 1, 1, 1, 1, 1, 1, 1, 1, 0, 1, 1, 1, 1, 1, 1, 1,\n",
       "       1, 1, 1, 1, 1, 0, 1, 1, 1, 1, 1, 1, 1, 1, 1, 1, 1, 1, 1, 1, 1, 1,\n",
       "       1, 1, 1, 0, 1, 1, 1, 1, 0, 1, 1, 1, 1, 1, 1, 1, 1, 1, 0, 1, 1, 1,\n",
       "       1, 1, 1, 1, 1, 1, 0, 1, 1, 1, 1, 1, 1, 1, 1, 1, 1, 1, 1, 1, 1, 1,\n",
       "       0, 1, 1, 1, 1, 1, 1, 0, 1, 1, 1, 1, 1, 1, 1, 1, 1, 1, 1, 0, 1, 0,\n",
       "       1, 0, 1, 1, 1, 1, 1, 1, 1, 1, 1, 1, 1, 1, 1, 1, 0, 1, 1, 1, 1, 1,\n",
       "       1, 1, 1, 1, 1, 0, 1, 1, 1, 1, 1, 1, 1, 1, 1, 1, 1, 1, 1, 1, 1, 1,\n",
       "       1, 1, 1, 1, 1, 1, 1, 1, 1, 1, 1, 1], dtype=int64)"
      ]
     },
     "execution_count": 54,
     "metadata": {},
     "output_type": "execute_result"
    }
   ],
   "source": [
    "model.predict(test_x)"
   ]
  },
  {
   "cell_type": "code",
   "execution_count": 55,
   "id": "4fbeb64c",
   "metadata": {},
   "outputs": [
    {
     "data": {
      "text/plain": [
       "0.7484342379958246"
      ]
     },
     "execution_count": 55,
     "metadata": {},
     "output_type": "execute_result"
    }
   ],
   "source": [
    "model.score(test_x,test_y)"
   ]
  },
  {
   "cell_type": "code",
   "execution_count": 56,
   "id": "840b78b2",
   "metadata": {},
   "outputs": [
    {
     "data": {
      "text/plain": [
       "[Text(248.0, 323.4, 'RB_6_チップ容量最小値 <= 854.898\\ngini = 0.393\\nsamples = 2874\\nvalue = [771, 2103]\\nclass = y[1]'),\n",
       " Text(124.0, 230.99999999999997, 'LB_6_チップ容量最小値 <= 840.26\\ngini = 0.493\\nsamples = 746\\nvalue = [328, 418]\\nclass = y[1]'),\n",
       " Text(62.0, 138.6, 'LB_6_チップ容量最小値 <= 826.775\\ngini = 0.494\\nsamples = 280\\nvalue = [155, 125]\\nclass = y[0]'),\n",
       " Text(31.0, 46.19999999999999, 'gini = 0.284\\nsamples = 35\\nvalue = [29, 6]\\nclass = y[0]'),\n",
       " Text(93.0, 46.19999999999999, 'gini = 0.5\\nsamples = 245\\nvalue = [126, 119]\\nclass = y[0]'),\n",
       " Text(186.0, 138.6, '3_ウエハ容量標準偏差 <= 42.871\\ngini = 0.467\\nsamples = 466\\nvalue = [173, 293]\\nclass = y[1]'),\n",
       " Text(155.0, 46.19999999999999, 'gini = 0.367\\nsamples = 157\\nvalue = [38, 119]\\nclass = y[1]'),\n",
       " Text(217.0, 46.19999999999999, 'gini = 0.492\\nsamples = 309\\nvalue = [135, 174]\\nclass = y[1]'),\n",
       " Text(372.0, 230.99999999999997, '3_ウエハ容量標準偏差 <= 81.646\\ngini = 0.33\\nsamples = 2128\\nvalue = [443, 1685]\\nclass = y[1]'),\n",
       " Text(310.0, 138.6, 'LB_6_チップ容量最小値 <= 914.408\\ngini = 0.314\\nsamples = 1884\\nvalue = [367, 1517]\\nclass = y[1]'),\n",
       " Text(279.0, 46.19999999999999, 'gini = 0.311\\nsamples = 1875\\nvalue = [361, 1514]\\nclass = y[1]'),\n",
       " Text(341.0, 46.19999999999999, 'gini = 0.444\\nsamples = 9\\nvalue = [6, 3]\\nclass = y[0]'),\n",
       " Text(434.0, 138.6, 'LB_6_チップ容量最小値 <= 849.716\\ngini = 0.429\\nsamples = 244\\nvalue = [76, 168]\\nclass = y[1]'),\n",
       " Text(403.0, 46.19999999999999, 'gini = 0.219\\nsamples = 8\\nvalue = [7, 1]\\nclass = y[0]'),\n",
       " Text(465.0, 46.19999999999999, 'gini = 0.414\\nsamples = 236\\nvalue = [69, 167]\\nclass = y[1]')]"
      ]
     },
     "execution_count": 56,
     "metadata": {},
     "output_type": "execute_result"
    },
    {
     "data": {
      "image/png": "[encoded data removed]",
      "text/plain": [
       "<Figure size 640x480 with 1 Axes>"
      ]
     },
     "metadata": {},
     "output_type": "display_data"
    }
   ],
   "source": [
    "from sklearn.tree import plot_tree\n",
    "plot_tree(model, feature_names=train_x.columns, class_names=True, filled=True)"
   ]
  },
  {
   "cell_type": "code",
   "execution_count": null,
   "id": "fe78e629",
   "metadata": {},
   "outputs": [],
   "source": []
  }
 ],
 "metadata": {
  "kernelspec": {
   "display_name": "Python 3.10.4 64-bit",
   "language": "python",
   "name": "python3"
  },
  "language_info": {
   "codemirror_mode": {
    "name": "ipython",
    "version": 3
   },
   "file_extension": ".py",
   "mimetype": "text/x-python",
   "name": "python",
   "nbconvert_exporter": "python",
   "pygments_lexer": "ipython3",
   "version": "3.10.4"
  },
  "vscode": {
   "interpreter": {
    "hash": "bf3d8c782d9cea85a2774edd86c1bfe8691674153dd199e93758e1c8b0837211"
   }
  }
 },
 "nbformat": 4,
 "nbformat_minor": 5
}
